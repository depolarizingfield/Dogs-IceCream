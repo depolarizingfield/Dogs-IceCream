{
 "cells": [
  {
   "cell_type": "code",
   "execution_count": 1,
   "metadata": {},
   "outputs": [],
   "source": [
    "#this script looks for dog faces on pictures, locates them, crops them and saves them\n",
    "\n",
    "#eternal gratitude to\n",
    "##https://www.pyimagesearch.com/2016/06/20/detecting-cats-in-images-with-opencv/\n",
    "##https://github.com/AlexeyAB/OpenCV-detection-models\n",
    "##https://stackoverflow.com/questions/15589517/how-to-crop-an-image-in-opencv-using-python\n",
    "##https://stackoverflow.com/questions/12216333/opencv-imread-imwrite-increases-the-size-of-png\n",
    "##http://www.pythonforbeginners.com/concatenation/string-concatenation-and-formatting-in-python\n",
    "\n",
    "#the uniform input dimension for the faces to be scaled, so they van be put into the GAN\n",
    "height=100\n",
    "width=100\n",
    "#path=r\"path to the doggies\"\n",
    "#filter_path=r\"path you downloaded the dog filter from github to\"\n",
    "#save_path=\"path where it should be saved to\"\n",
    "\n",
    "\n",
    "# import the necessary packages\n",
    "import argparse\n",
    "import cv2\n",
    "import os "
   ]
  },
  {
   "cell_type": "code",
   "execution_count": 7,
   "metadata": {},
   "outputs": [],
   "source": [
    "cwd = os.getcwd()\n",
    "path = os.path.join(cwd,\"cats\")\n",
    "save_path = os.path.join(cwd,\"faces\")\n",
    "filter_path = os.path.join(\"cat.xml\")"
   ]
  },
  {
   "cell_type": "code",
   "execution_count": 17,
   "metadata": {
    "collapsed": true
   },
   "outputs": [],
   "source": [
    "#iterate over the doggies\n",
    "for root, dirs, files in os.walk(path):  \n",
    "    for filename in files:\n",
    "        # load the input image and convert it to grayscale\n",
    "        image = cv2.imread(os.path.join(path, filename),0)\n",
    "        # load the cat detector Haar cascade, then detect cat faces\n",
    "        # in the input image\n",
    "        #image properly grayscaled\n",
    "        detector = cv2.CascadeClassifier('cats.xml')\n",
    "        rects = detector.detectMultiScale(gray, scaleFactor=1.05,minNeighbors=1, minSize=(75, 75))\n",
    "        # loop over the cat faces\n",
    "        for (i, (x, y, w, h)) in enumerate(rects):\n",
    "            #crop the image\n",
    "            crop_img = image[y:y+h, x:x+w]\n",
    "            cv2.imshow(\"cropped\", crop_img)\n",
    "            cv2.waitKey(0)\n",
    "            #and save it\n",
    "            params = list()\n",
    "            #params.append(cv2.CV_IMWRITE_PNG_COMPRESSION)\n",
    "            params.append(8)\n",
    "            res = cv2.resize(crop_img,(width, height), interpolation = cv2.INTER_CUBIC)\n",
    "            cv2.imwrite(os.path.join(save_path,\"face\"+str(i)+\".png\"),res,params)"
   ]
  },
  {
   "cell_type": "code",
   "execution_count": null,
   "metadata": {
    "collapsed": true
   },
   "outputs": [],
   "source": []
  }
 ],
 "metadata": {
  "kernelspec": {
   "display_name": "Python 3",
   "language": "python",
   "name": "python3"
  },
  "language_info": {
   "codemirror_mode": {
    "name": "ipython",
    "version": 3
   },
   "file_extension": ".py",
   "mimetype": "text/x-python",
   "name": "python",
   "nbconvert_exporter": "python",
   "pygments_lexer": "ipython3",
   "version": "3.6.1"
  }
 },
 "nbformat": 4,
 "nbformat_minor": 2
}
