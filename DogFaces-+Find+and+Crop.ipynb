{
 "cells": [
  {
   "cell_type": "code",
   "execution_count": 3,
   "metadata": {},
   "outputs": [
    {
     "ename": "ImportError",
     "evalue": "DLL load failed: Das angegebene Modul wurde nicht gefunden.",
     "output_type": "error",
     "traceback": [
      "\u001b[1;31m---------------------------------------------------------------------------\u001b[0m",
      "\u001b[1;31mImportError\u001b[0m                               Traceback (most recent call last)",
      "\u001b[1;32m<ipython-input-3-a48ce57482ad>\u001b[0m in \u001b[0;36m<module>\u001b[1;34m()\u001b[0m\n\u001b[0;32m     24\u001b[0m \u001b[1;31m# import the necessary packages\u001b[0m\u001b[1;33m\u001b[0m\u001b[1;33m\u001b[0m\u001b[0m\n\u001b[0;32m     25\u001b[0m \u001b[1;32mimport\u001b[0m \u001b[0margparse\u001b[0m\u001b[1;33m\u001b[0m\u001b[0m\n\u001b[1;32m---> 26\u001b[1;33m \u001b[1;32mimport\u001b[0m \u001b[0mcv2\u001b[0m\u001b[1;33m\u001b[0m\u001b[0m\n\u001b[0m\u001b[0;32m     27\u001b[0m \u001b[1;32mimport\u001b[0m \u001b[0mos\u001b[0m\u001b[1;33m\u001b[0m\u001b[0m\n\u001b[0;32m     28\u001b[0m \u001b[1;31m# construct the argument parse and parse the arguments\u001b[0m\u001b[1;33m\u001b[0m\u001b[1;33m\u001b[0m\u001b[0m\n",
      "\u001b[1;31mImportError\u001b[0m: DLL load failed: Das angegebene Modul wurde nicht gefunden."
     ]
    }
   ],
   "source": [
    "#this script looks for dog faces on pictures, locates them, crops them and saves them\n",
    "\n",
    "#eternal gratitude to\n",
    "##https://www.pyimagesearch.com/2016/06/20/detecting-cats-in-images-with-opencv/\n",
    "##https://github.com/AlexeyAB/OpenCV-detection-models\n",
    "##https://stackoverflow.com/questions/15589517/how-to-crop-an-image-in-opencv-using-python\n",
    "##https://stackoverflow.com/questions/12216333/opencv-imread-imwrite-increases-the-size-of-png\n",
    "##http://www.pythonforbeginners.com/concatenation/string-concatenation-and-formatting-in-python\n",
    "\n",
    "\n",
    "\n",
    "save_path=r\"C:\\Users\\marius\\dog_faces\"\n",
    "#filter_path=r\"path you downloaded the dog filter from github to\"\n",
    "path=r\"C:\\Users\\marius\\dogs\"\n",
    "\n",
    "#the uniform input dimension for the faces to be scaled, so they van be put into the GAN\n",
    "height=100\n",
    "width=100\n",
    "#path=r\"path to the doggies\"\n",
    "#filter_path=r\"path you downloaded the dog filter from github to\"\n",
    "#save_path=\"path where it should be saved to\"\n",
    "\n",
    "\n",
    "# import the necessary packages\n",
    "import argparse\n",
    "import cv2\n",
    "import os \n",
    "# construct the argument parse and parse the arguments\n",
    "ap = argparse.ArgumentParser()\n",
    "ap.add_argument(\"-i\", \"--image\", required=True,\n",
    "\thelp=\"path to the input image\")\n",
    "ap.add_argument(\"-c\", \"--cascade\",\n",
    "\tdefault=r\"C:\\Users\\marius\\Downloads\\dog.xml\",#filter_path,\n",
    "\thelp=\"path to dog detector haar cascade\")\n",
    "args = vars(ap.parse_args())\n",
    "\n",
    "\n",
    "#iterate over the doggies\n",
    "\n",
    "\n",
    "for root, dirs, files in os.walk(path):  \n",
    "    for filename in files:\n",
    "        # load the input image and convert it to grayscale\n",
    "        image = cv2.imread(filename)\n",
    "        gray = cv2.cvtColor(image, cv2.COLOR_BGR2GRAY)\n",
    " \n",
    "        # load the cat detector Haar cascade, then detect cat faces\n",
    "        # in the input image\n",
    "        detector = cv2.CascadeClassifier(args[\"cascade\"])\n",
    "        rects = detector.detectMultiScale(gray, scaleFactor=1.3,\n",
    "        minNeighbors=10, minSize=(75, 75))\n",
    "\n",
    "\n",
    "\t\n",
    "        # loop over the cat faces\n",
    "        for (i, (x, y, w, h)) in enumerate(rects):\n",
    "            #crop the image\n",
    "            crop_img = imgage[y:y+h, x:x+w]\n",
    "            #cv2.imshow(\"cropped\", crop_img)\n",
    "            #cv2.waitKey(0)\n",
    "            #and save it\n",
    "            params = list()\n",
    "            params.append(cv.CV_IMWRITE_PNG_COMPRESSION)\n",
    "            params.append(8)\n",
    "            res = cv2.resize(crop_img,(width, height), interpolation = cv2.INTER_CUBIC)\n",
    "            \n",
    "            cv2.imwrite(filname+\"_\"+str(i)+\".png\",res,params)"
   ]
  },
  {
   "cell_type": "code",
   "execution_count": null,
   "metadata": {
    "collapsed": true
   },
   "outputs": [],
   "source": []
  },
  {
   "cell_type": "code",
   "execution_count": null,
   "metadata": {
    "collapsed": true
   },
   "outputs": [],
   "source": []
  }
 ],
 "metadata": {
  "kernelspec": {
   "display_name": "Python 3",
   "language": "python",
   "name": "python3"
  },
  "language_info": {
   "codemirror_mode": {
    "name": "ipython",
    "version": 3
   },
   "file_extension": ".py",
   "mimetype": "text/x-python",
   "name": "python",
   "nbconvert_exporter": "python",
   "pygments_lexer": "ipython3",
   "version": "3.6.3"
  }
 },
 "nbformat": 4,
 "nbformat_minor": 2
}
